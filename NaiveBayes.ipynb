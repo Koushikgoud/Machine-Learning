{
  "cells": [
    {
      "cell_type": "markdown",
      "metadata": {
        "id": "view-in-github",
        "colab_type": "text"
      },
      "source": [
        "<a href=\"https://colab.research.google.com/github/Koushikgoud/Machine-Learning/blob/main/NaiveBayes.ipynb\" target=\"_parent\"><img src=\"https://colab.research.google.com/assets/colab-badge.svg\" alt=\"Open In Colab\"/></a>"
      ]
    },
    {
      "cell_type": "markdown",
      "metadata": {
        "id": "IFDpOc0Imaj4"
      },
      "source": [
        "# PA1 - NB Classification\n",
        "In this, we implemented a simple Naive Bayes classifier and train/test it on the 20 newsgroup dataset. The objective is to classify documents into one of the 20 categories using a simple Naive Bayesian method.\n",
        "\n",
        "The following code is partially done. You need to complete all the code blocks that start with **TODO**. Save a copy of this notebook, and complete your notebook. **Submit a PDF copy of your notebook to D2L.**\n",
        "\n",
        "## Data Analysis\n",
        "Fetching the dataset first. You can download it using a sci-kit learn dataset method as below."
      ]
    },
    {
      "cell_type": "code",
      "execution_count": 1,
      "metadata": {
        "id": "aTSlqjGlmE9a"
      },
      "outputs": [],
      "source": [
        "from sklearn.datasets import fetch_20newsgroups\n",
        "\n",
        "data_tr = fetch_20newsgroups(subset='train', shuffle=True, random_state=42)"
      ]
    },
    {
      "cell_type": "markdown",
      "metadata": {
        "id": "-HtbYeI2_Lre"
      },
      "source": [
        "Let's inspect what we have."
      ]
    },
    {
      "cell_type": "code",
      "execution_count": 2,
      "metadata": {
        "colab": {
          "base_uri": "https://localhost:8080/",
          "height": 0
        },
        "id": "r-XZS21ons5c",
        "outputId": "078af255-1e7e-4917-e2a0-f9a5e0df0ac5"
      },
      "outputs": [
        {
          "output_type": "execute_result",
          "data": {
            "text/plain": [
              "['DESCR', 'data', 'filenames', 'target', 'target_names']"
            ]
          },
          "metadata": {},
          "execution_count": 2
        }
      ],
      "source": [
        "dir(data_tr)"
      ]
    },
    {
      "cell_type": "markdown",
      "metadata": {
        "id": "P-VCxw4Y_vJ6"
      },
      "source": [
        "Let's print out the first three examples."
      ]
    },
    {
      "cell_type": "code",
      "execution_count": 3,
      "metadata": {
        "colab": {
          "base_uri": "https://localhost:8080/",
          "height": 0
        },
        "id": "lGZvIq9ZnwZ7",
        "outputId": "e5bd6785-05f0-4af4-f8cc-f486e4940db5"
      },
      "outputs": [
        {
          "output_type": "execute_result",
          "data": {
            "text/plain": [
              "[\"From: lerxst@wam.umd.edu (where's my thing)\\nSubject: WHAT car is this!?\\nNntp-Posting-Host: rac3.wam.umd.edu\\nOrganization: University of Maryland, College Park\\nLines: 15\\n\\n I was wondering if anyone out there could enlighten me on this car I saw\\nthe other day. It was a 2-door sports car, looked to be from the late 60s/\\nearly 70s. It was called a Bricklin. The doors were really small. In addition,\\nthe front bumper was separate from the rest of the body. This is \\nall I know. If anyone can tellme a model name, engine specs, years\\nof production, where this car is made, history, or whatever info you\\nhave on this funky looking car, please e-mail.\\n\\nThanks,\\n- IL\\n   ---- brought to you by your neighborhood Lerxst ----\\n\\n\\n\\n\\n\",\n",
              " \"From: guykuo@carson.u.washington.edu (Guy Kuo)\\nSubject: SI Clock Poll - Final Call\\nSummary: Final call for SI clock reports\\nKeywords: SI,acceleration,clock,upgrade\\nArticle-I.D.: shelley.1qvfo9INNc3s\\nOrganization: University of Washington\\nLines: 11\\nNNTP-Posting-Host: carson.u.washington.edu\\n\\nA fair number of brave souls who upgraded their SI clock oscillator have\\nshared their experiences for this poll. Please send a brief message detailing\\nyour experiences with the procedure. Top speed attained, CPU rated speed,\\nadd on cards and adapters, heat sinks, hour of usage per day, floppy disk\\nfunctionality with 800 and 1.4 m floppies are especially requested.\\n\\nI will be summarizing in the next two days, so please add to the network\\nknowledge base if you have done the clock upgrade and haven't answered this\\npoll. Thanks.\\n\\nGuy Kuo <guykuo@u.washington.edu>\\n\",\n",
              " 'From: twillis@ec.ecn.purdue.edu (Thomas E Willis)\\nSubject: PB questions...\\nOrganization: Purdue University Engineering Computer Network\\nDistribution: usa\\nLines: 36\\n\\nwell folks, my mac plus finally gave up the ghost this weekend after\\nstarting life as a 512k way back in 1985.  sooo, i\\'m in the market for a\\nnew machine a bit sooner than i intended to be...\\n\\ni\\'m looking into picking up a powerbook 160 or maybe 180 and have a bunch\\nof questions that (hopefully) somebody can answer:\\n\\n* does anybody know any dirt on when the next round of powerbook\\nintroductions are expected?  i\\'d heard the 185c was supposed to make an\\nappearence \"this summer\" but haven\\'t heard anymore on it - and since i\\ndon\\'t have access to macleak, i was wondering if anybody out there had\\nmore info...\\n\\n* has anybody heard rumors about price drops to the powerbook line like the\\nones the duo\\'s just went through recently?\\n\\n* what\\'s the impression of the display on the 180?  i could probably swing\\na 180 if i got the 80Mb disk rather than the 120, but i don\\'t really have\\na feel for how much \"better\" the display is (yea, it looks great in the\\nstore, but is that all \"wow\" or is it really that good?).  could i solicit\\nsome opinions of people who use the 160 and 180 day-to-day on if its worth\\ntaking the disk size and money hit to get the active display?  (i realize\\nthis is a real subjective question, but i\\'ve only played around with the\\nmachines in a computer store breifly and figured the opinions of somebody\\nwho actually uses the machine daily might prove helpful).\\n\\n* how well does hellcats perform?  ;)\\n\\nthanks a bunch in advance for any info - if you could email, i\\'ll post a\\nsummary (news reading time is at a premium with finals just around the\\ncorner... :( )\\n--\\nTom Willis  \\\\  twillis@ecn.purdue.edu    \\\\    Purdue Electrical Engineering\\n---------------------------------------------------------------------------\\n\"Convictions are more dangerous enemies of truth than lies.\"  - F. W.\\nNietzsche\\n',\n",
              " 'From: jgreen@amber (Joe Green)\\nSubject: Re: Weitek P9000 ?\\nOrganization: Harris Computer Systems Division\\nLines: 14\\nDistribution: world\\nNNTP-Posting-Host: amber.ssd.csd.harris.com\\nX-Newsreader: TIN [version 1.1 PL9]\\n\\nRobert J.C. Kyanko (rob@rjck.UUCP) wrote:\\n> abraxis@iastate.edu writes in article <abraxis.734340159@class1.iastate.edu>:\\n> > Anyone know about the Weitek P9000 graphics chip?\\n> As far as the low-level stuff goes, it looks pretty nice.  It\\'s got this\\n> quadrilateral fill command that requires just the four points.\\n\\nDo you have Weitek\\'s address/phone number?  I\\'d like to get some information\\nabout this chip.\\n\\n--\\nJoe Green\\t\\t\\t\\tHarris Corporation\\njgreen@csd.harris.com\\t\\t\\tComputer Systems Division\\n\"The only thing that really scares me is a person with no sense of humor.\"\\n\\t\\t\\t\\t\\t\\t-- Jonathan Winters\\n',\n",
              " 'From: jcm@head-cfa.harvard.edu (Jonathan McDowell)\\nSubject: Re: Shuttle Launch Question\\nOrganization: Smithsonian Astrophysical Observatory, Cambridge, MA,  USA\\nDistribution: sci\\nLines: 23\\n\\nFrom article <C5owCB.n3p@world.std.com>, by tombaker@world.std.com (Tom A Baker):\\n>>In article <C5JLwx.4H9.1@cs.cmu.edu>, ETRAT@ttacs1.ttu.edu (Pack Rat) writes...\\n>>>\"Clear caution & warning memory.  Verify no unexpected\\n>>>errors. ...\".  I am wondering what an \"expected error\" might\\n>>>be.  Sorry if this is a really dumb question, but\\n> \\n> Parity errors in memory or previously known conditions that were waivered.\\n>    \"Yes that is an error, but we already knew about it\"\\n> I\\'d be curious as to what the real meaning of the quote is.\\n> \\n> tom\\n\\n\\nMy understanding is that the \\'expected errors\\' are basically\\nknown bugs in the warning system software - things are checked\\nthat don\\'t have the right values in yet because they aren\\'t\\nset till after launch, and suchlike. Rather than fix the code\\nand possibly introduce new bugs, they just tell the crew\\n\\'ok, if you see a warning no. 213 before liftoff, ignore it\\'.\\n\\n - Jonathan\\n\\n\\n']"
            ]
          },
          "metadata": {},
          "execution_count": 3
        }
      ],
      "source": [
        "data_tr.data[:5]"
      ]
    },
    {
      "cell_type": "code",
      "execution_count": 4,
      "metadata": {
        "colab": {
          "base_uri": "https://localhost:8080/",
          "height": 0
        },
        "id": "Cl-oacrDoTVb",
        "outputId": "f7181c77-63c3-45aa-c3a1-9eb22e7aab51"
      },
      "outputs": [
        {
          "output_type": "execute_result",
          "data": {
            "text/plain": [
              "array([7, 4, 4, ..., 3, 1, 8])"
            ]
          },
          "metadata": {},
          "execution_count": 4
        }
      ],
      "source": [
        "data_tr.target"
      ]
    },
    {
      "cell_type": "markdown",
      "metadata": {
        "id": "R5l0oUqw_26T"
      },
      "source": [
        "As you can see, `data` is the textual input, and `target` is the corresponding label (i.e., news category). We have 20 classes as below, and the target is the integer number corresponding to the names:"
      ]
    },
    {
      "cell_type": "code",
      "execution_count": 5,
      "metadata": {
        "colab": {
          "base_uri": "https://localhost:8080/",
          "height": 0
        },
        "id": "s_5fvg3x_jc_",
        "outputId": "b04c4a07-e136-485b-9262-9b10ebc88f41"
      },
      "outputs": [
        {
          "output_type": "execute_result",
          "data": {
            "text/plain": [
              "['alt.atheism',\n",
              " 'comp.graphics',\n",
              " 'comp.os.ms-windows.misc',\n",
              " 'comp.sys.ibm.pc.hardware',\n",
              " 'comp.sys.mac.hardware',\n",
              " 'comp.windows.x',\n",
              " 'misc.forsale',\n",
              " 'rec.autos',\n",
              " 'rec.motorcycles',\n",
              " 'rec.sport.baseball',\n",
              " 'rec.sport.hockey',\n",
              " 'sci.crypt',\n",
              " 'sci.electronics',\n",
              " 'sci.med',\n",
              " 'sci.space',\n",
              " 'soc.religion.christian',\n",
              " 'talk.politics.guns',\n",
              " 'talk.politics.mideast',\n",
              " 'talk.politics.misc',\n",
              " 'talk.religion.misc']"
            ]
          },
          "metadata": {},
          "execution_count": 5
        }
      ],
      "source": [
        "data_tr.target_names"
      ]
    },
    {
      "cell_type": "markdown",
      "metadata": {
        "id": "rDrCrwNIAkRw"
      },
      "source": [
        "Let's plot a histogram with the target data to see its distribution."
      ]
    },
    {
      "cell_type": "code",
      "execution_count": 6,
      "metadata": {
        "colab": {
          "base_uri": "https://localhost:8080/",
          "height": 499
        },
        "id": "4Y3vlcB9o32b",
        "outputId": "8068d065-7ce6-4e57-a6c8-12522cce7da0"
      },
      "outputs": [
        {
          "output_type": "display_data",
          "data": {
            "text/plain": [
              "<Figure size 1440x576 with 1 Axes>"
            ],
            "image/png": "[encoded data removed]"
          },
          "metadata": {
            "needs_background": "light"
          }
        }
      ],
      "source": [
        "import matplotlib.pyplot as plt\n",
        "plt.figure(figsize=(20,8)) #change your figure size as per your desire here\n",
        "n,bins,patch = plt.hist(data_tr.target, bins=len(data_tr.target_names), color='green', alpha=0.8, label='Value', edgecolor='orange', linewidth=5)\n",
        "plt.title(\"20 Newsgroup category frequence\")\n"
      ]
    },
    {
      "cell_type": "markdown",
      "metadata": {
        "id": "OdbEFMfuibO2"
      },
      "source": [
        "## Text preprocessing\n",
        "\n",
        "### Filtering of Stopwords and Tokenizing\n",
        "\n",
        "You will remove stopwords from the raw texts. *Stopwords* are a set of frequently used words in any language, such as 'a', 'you', 'I', and 'will'. These are most likely function words that are not necessarily informative in delivering meanings.\n",
        "\n",
        "Next, the given texts will be tokenized; that is, a sentence is split into an array of words by whitespace. After that, we can compute the probabilities over words. \n",
        "\n",
        "So, this is a simple text preprocessing that should:\n",
        "- convert to lowercase\n",
        "- filter stopwords, and\n",
        "- tokenize simply by whitespace.\n",
        "\n",
        "We can use the NLTK stopwords as below:"
      ]
    },
    {
      "cell_type": "code",
      "execution_count": 7,
      "metadata": {
        "colab": {
          "base_uri": "https://localhost:8080/",
          "height": 0
        },
        "id": "lvq6u-HPl0kX",
        "outputId": "46d83cd1-6d3a-458d-abf5-330fa710d366"
      },
      "outputs": [
        {
          "output_type": "stream",
          "name": "stderr",
          "text": [
            "[nltk_data] Downloading package stopwords to /root/nltk_data...\n",
            "[nltk_data]   Unzipping corpora/stopwords.zip.\n"
          ]
        },
        {
          "output_type": "execute_result",
          "data": {
            "text/plain": [
              "['i', 'me', 'my', 'myself', 'we', 'our', 'ours', 'ourselves', 'you', \"you're\"]"
            ]
          },
          "metadata": {},
          "execution_count": 7
        }
      ],
      "source": [
        "import nltk\n",
        "from nltk.corpus import stopwords\n",
        "nltk.download('stopwords')\n",
        "sw_list = stopwords.words('english')\n",
        "sw_list[:10]  # show some examples\n"
      ]
    },
    {
      "cell_type": "markdown",
      "metadata": {
        "id": "TG76aobqCk2o"
      },
      "source": [
        "First, we are using WhitespaceTokenizer module from nltk.tokenize library which simply breaks the sentences whenever it comes across a whitespace and we are applying this after converting the text to lowercase.\n",
        "Next we remove the stopwords.\n",
        "  "
      ]
    },
    {
      "cell_type": "code",
      "execution_count": 8,
      "metadata": {
        "colab": {
          "base_uri": "https://localhost:8080/",
          "height": 0
        },
        "id": "dss49MPkCYUY",
        "outputId": "65bcf32e-fe60-48d3-88cf-cb4d5f2c9cca"
      },
      "outputs": [
        {
          "output_type": "stream",
          "name": "stderr",
          "text": [
            "[nltk_data] Downloading package punkt to /root/nltk_data...\n",
            "[nltk_data]   Unzipping tokenizers/punkt.zip.\n"
          ]
        }
      ],
      "source": [
        "# import WhitespaceTokenizer() method from nltk\n",
        "from nltk.tokenize import WhitespaceTokenizer\n",
        "     \n",
        "# Create a reference variable for Class WhitespaceTokenizer\n",
        "tokenizer = WhitespaceTokenizer()\n",
        "nltk.download('punkt')\n",
        "\n",
        "def text_prep(s):\n",
        "  #converting to lowercase and tokenizing the documents \n",
        "  tokenized_data = tokenizer.tokenize(s.lower())\n",
        "\n",
        "  #removing stopwords\n",
        "  s_no_sw = [word for word in tokenized_data if word not in sw_list]\n",
        "\n",
        "  return s_no_sw\n"
      ]
    },
    {
      "cell_type": "markdown",
      "metadata": {
        "id": "ITqVT5HqDhTe"
      },
      "source": [
        "Apply the function `text_prep` on `data_tr.data` and append the outputs to `data_tr_prep`. `data_tr_prep` will be a list of documents where each document is a list of preprocessed words."
      ]
    },
    {
      "cell_type": "code",
      "execution_count": 9,
      "metadata": {
        "colab": {
          "base_uri": "https://localhost:8080/",
          "height": 0
        },
        "id": "shgQs37BlR2k",
        "outputId": "9e5a3b10-1055-4ca5-9ce5-ccfc3d3248ea"
      },
      "outputs": [
        {
          "output_type": "execute_result",
          "data": {
            "text/plain": [
              "['from:',\n",
              " 'lerxst@wam.umd.edu',\n",
              " \"(where's\",\n",
              " 'thing)',\n",
              " 'subject:',\n",
              " 'car',\n",
              " 'this!?',\n",
              " 'nntp-posting-host:',\n",
              " 'rac3.wam.umd.edu',\n",
              " 'organization:',\n",
              " 'university',\n",
              " 'maryland,']"
            ]
          },
          "metadata": {},
          "execution_count": 9
        }
      ],
      "source": [
        "data_tr_prep = []\n",
        "for i in range(len(data_tr.data)):\n",
        "  data_tr_prep.append(text_prep(data_tr.data[i]))\n",
        "data_tr_prep[0][:12]"
      ]
    },
    {
      "cell_type": "markdown",
      "metadata": {
        "id": "ipz6qv95E_14"
      },
      "source": [
        "`data_tr_prep[0]` should print a list of words similar to the following list:\n",
        "```\n",
        "['from:',\n",
        " 'lerxst@wam.umd.edu',\n",
        " \"(where's\",\n",
        " 'thing)',\n",
        " 'subject:',\n",
        " 'car',\n",
        " 'this!?',\n",
        " 'nntp-posting-host:',\n",
        " 'rac3.wam.umd.edu',\n",
        " 'organization:',\n",
        " 'university',\n",
        " 'maryland,',\n",
        " ...\n",
        "]\n",
        "```"
      ]
    },
    {
      "cell_type": "markdown",
      "metadata": {
        "id": "vcYR1VEGqNXm"
      },
      "source": [
        "## Build a Vocabulary\n",
        "\n",
        "Now we need to build a vocabulary which contains a fixed number of unique words. Only the words in the vocabulary will be used in the prediction process.\n",
        "\n",
        "Let's set a reasonable size of vocabulary (i.e., V = 10000)\n",
        "\n",
        "We will use a Python Counter to count all the words appear in the entire *training* dataset. This counter is a dictionary of key-value (word-frequency) pairs.\n"
      ]
    },
    {
      "cell_type": "code",
      "execution_count": 10,
      "metadata": {
        "id": "5YCX21cGpycC"
      },
      "outputs": [],
      "source": [
        "from collections import Counter, defaultdict\n",
        "V = 10000\n",
        "C = len(data_tr.target_names) #20\n",
        "cnt_words = Counter()\n",
        "for d in data_tr_prep:\n",
        "  cnt_words.update(d)"
      ]
    },
    {
      "cell_type": "markdown",
      "metadata": {
        "id": "A7y8SEQGHO0f"
      },
      "source": [
        "`.most_common(n)` will return the n most frequent words in the counter, as below: Let's not worry about the punctuation words for now. "
      ]
    },
    {
      "cell_type": "code",
      "execution_count": 11,
      "metadata": {
        "colab": {
          "base_uri": "https://localhost:8080/",
          "height": 0
        },
        "id": "7-J1K1-nIBSP",
        "outputId": "a73e76e1-d5e1-46c3-99d8-d0914f1f5edf"
      },
      "outputs": [
        {
          "output_type": "execute_result",
          "data": {
            "text/plain": [
              "[('>', 27843),\n",
              " ('subject:', 11644),\n",
              " ('from:', 11590),\n",
              " ('lines:', 11337),\n",
              " ('organization:', 10881),\n",
              " ('|', 10072),\n",
              " ('-', 9662),\n",
              " ('would', 8654),\n",
              " ('re:', 7857),\n",
              " ('--', 7639),\n",
              " ('writes:', 7505),\n",
              " ('one', 7481),\n",
              " ('|>', 6521),\n",
              " ('article', 6466),\n",
              " ('like', 5345),\n",
              " ('x', 4982),\n",
              " ('people', 4859),\n",
              " ('get', 4785),\n",
              " ('nntp-posting-host:', 4777),\n",
              " (':', 4710),\n",
              " ('university', 4597),\n",
              " ('know', 4295),\n",
              " ('>>', 4140),\n",
              " ('*', 4094),\n",
              " ('think', 4075),\n",
              " ('use', 3784),\n",
              " ('new', 3649),\n",
              " ('also', 3491),\n",
              " ('could', 3370),\n",
              " ('1', 3345)]"
            ]
          },
          "metadata": {},
          "execution_count": 11
        }
      ],
      "source": [
        "cnt_words.most_common(30)"
      ]
    },
    {
      "cell_type": "markdown",
      "metadata": {
        "id": "y2ravLsMIdGm"
      },
      "source": [
        "Build mappings between tokens (words) and their index numbers.**\n",
        "\n",
        "We create a data structure for the vocabulary of `V` words. You can use `cnt_words.most_common(V)` to get the top V most frequent words.\n",
        "\n",
        "`tok2idx` will map a token to its index number and `idx2tok` will be a list of words in the frequency order."
      ]
    },
    {
      "cell_type": "code",
      "execution_count": 12,
      "metadata": {
        "colab": {
          "base_uri": "https://localhost:8080/",
          "height": 0
        },
        "id": "_36wcYG1q7mh",
        "outputId": "72f25f6f-1c5e-4286-a134-616f89d9d2f3"
      },
      "outputs": [
        {
          "output_type": "stream",
          "name": "stdout",
          "text": [
            "10000\n"
          ]
        }
      ],
      "source": [
        "idx2tok = list()\n",
        "tok2idx = dict()\n",
        "\n",
        "#Populate the idx2tok and tok2idx\n",
        "for i in range(10000):\n",
        "  idx2tok.append(cnt_words.most_common(V)[i][0])\n",
        "  tok2idx[cnt_words.most_common(V)[i][0]] = i\n",
        "\n",
        "print(len(idx2tok));"
      ]
    },
    {
      "cell_type": "code",
      "source": [
        "idx2tok[:10]"
      ],
      "metadata": {
        "colab": {
          "base_uri": "https://localhost:8080/",
          "height": 0
        },
        "id": "Fjh4QG2ld7Fl",
        "outputId": "6cdc2588-8825-4637-8ba0-b3729714e03b"
      },
      "execution_count": 58,
      "outputs": [
        {
          "output_type": "execute_result",
          "data": {
            "text/plain": [
              "['>',\n",
              " 'subject:',\n",
              " 'from:',\n",
              " 'lines:',\n",
              " 'organization:',\n",
              " '|',\n",
              " '-',\n",
              " 'would',\n",
              " 're:',\n",
              " '--']"
            ]
          },
          "metadata": {},
          "execution_count": 58
        }
      ]
    },
    {
      "cell_type": "code",
      "source": [
        "tok2idx['would']"
      ],
      "metadata": {
        "colab": {
          "base_uri": "https://localhost:8080/",
          "height": 0
        },
        "id": "ViJloGKPd9XN",
        "outputId": "3d13d40c-8310-45d2-cdc6-4b28eab99489"
      },
      "execution_count": 60,
      "outputs": [
        {
          "output_type": "execute_result",
          "data": {
            "text/plain": [
              "7"
            ]
          },
          "metadata": {},
          "execution_count": 60
        }
      ]
    },
    {
      "cell_type": "markdown",
      "metadata": {
        "id": "CrtKqVZDJVU5"
      },
      "source": [
        "You should see results like below:\n",
        "\n",
        "```\n",
        "> idx2tok[:10]\n",
        "\n",
        "['>',\n",
        " 'subject:',\n",
        " 'from:',\n",
        " 'lines:',\n",
        " 'organization:',\n",
        " '|',\n",
        " '-',\n",
        " 'would',\n",
        " 're:',\n",
        " '--']\n",
        "\n",
        "> tok2idx['would']\n",
        "\n",
        "7\n",
        " ```"
      ]
    },
    {
      "cell_type": "markdown",
      "metadata": {
        "id": "mQsNTWnPKCAC"
      },
      "source": [
        "## Training a NB Classifier\n",
        "\n",
        "Naive Bayes classifier is a simple conditional probability model based on applying Bayes' theorem with strong feature independence assumption. For more details, you should carefully read the lecture slides.\n",
        "\n",
        "In essense, we need to build a classifier that computes the following:\n",
        "\n",
        "$$argmax_{c\\in C} P(c)\\prod_{w\\in d} P(w|c)$$\n",
        "\n",
        "That is, for each class $c$, we compute the product of the class prior $P(c)$ and the conditional probabilities of words given the class $P(w|c)$ in a document $d$.\n",
        "\n",
        "To do this, we need to estimate the prior class probabilities $P(c)$ and the conditional probabilities $P(w|c)$. We will use the normalized frequencies to estimate these probabilities.\n",
        "\n",
        "For example, $P(c=rec.autos)$ can be estimated by the number of documents that belong to the class divided it by the total number of documents.\n",
        "\n",
        "Likewise, $P(w=car|c=rec.autos)$ can be estimated by the fraction of the word $w$ appears among all words in documents of the class $c$.\n",
        "\n",
        "To handle the zero probability issue, you should also apply the 'add-1' smoothing (also called as Laplace smoothing).\n",
        "\n",
        "Now, the following Numpy arrays (i.e, `cond_prob` and `prior_prob`) will contain the estimated probabilities."
      ]
    },
    {
      "cell_type": "code",
      "execution_count": 13,
      "metadata": {
        "colab": {
          "base_uri": "https://localhost:8080/",
          "height": 0
        },
        "id": "y05wjdIircPc",
        "outputId": "cb73d4c2-0e6e-4900-c500-88e929d85ea5"
      },
      "outputs": [
        {
          "output_type": "execute_result",
          "data": {
            "text/plain": [
              "10000"
            ]
          },
          "metadata": {},
          "execution_count": 13
        }
      ],
      "source": [
        "import numpy as np\n",
        "\n",
        "cond_prob = np.zeros((V, C))\n",
        "prior_prob = np.zeros((C))\n",
        "len(cond_prob)"
      ]
    },
    {
      "cell_type": "markdown",
      "metadata": {
        "id": "GRYMTykOPGe4"
      },
      "source": [
        "Increment the counts and normalize them properly so that they can be use as the probabilities.**\n",
        "\n",
        "Prior probability of class, c = P(c) = Number of documents belonging to class, c / total number of documents available in the corpus\n",
        "\n",
        "---\n",
        "\n"
      ]
    },
    {
      "cell_type": "code",
      "execution_count": 14,
      "metadata": {
        "id": "ebOpqRA7wmTu"
      },
      "outputs": [],
      "source": [
        "# Prior probabilities step-1\n",
        "counts = []\n",
        "count = 0\n",
        "target = 0\n",
        "doc_len = 0\n",
        "for i in range(20):\n",
        "  for d, c in zip(data_tr_prep, data_tr.target):\n",
        "    if c == i:\n",
        "      count += 1\n",
        "  counts.append(count)\n",
        "  count = 0 \n",
        "  target += 1"
      ]
    },
    {
      "cell_type": "code",
      "execution_count": 15,
      "metadata": {
        "id": "6zpmsciX9J2s"
      },
      "outputs": [],
      "source": [
        "# Prior probabilities step-2\n",
        "for i in range(len(counts)):\n",
        "  prior_prob[i] = counts[i]/11314;"
      ]
    },
    {
      "cell_type": "code",
      "execution_count": 16,
      "metadata": {
        "colab": {
          "base_uri": "https://localhost:8080/",
          "height": 0
        },
        "id": "efOnx6_Q70_N",
        "outputId": "838eaeed-13c1-4610-aec2-c4644b6a9b76"
      },
      "outputs": [
        {
          "output_type": "execute_result",
          "data": {
            "text/plain": [
              "array([0.04242531, 0.05161747, 0.05223617, 0.05214778, 0.05108715,\n",
              "       0.05241294, 0.05170585, 0.05250133, 0.05285487, 0.05276648,\n",
              "       0.05303164, 0.05258971, 0.05223617, 0.05250133, 0.05241294,\n",
              "       0.05294326, 0.04825879, 0.04984974, 0.04109952, 0.03332155])"
            ]
          },
          "metadata": {},
          "execution_count": 16
        }
      ],
      "source": [
        "prior_prob"
      ]
    },
    {
      "cell_type": "markdown",
      "source": [
        "Here, we are simply getting the frequencies of occurence of each word in each of 20 categories/classes"
      ],
      "metadata": {
        "id": "TPee9-5_TmHg"
      }
    },
    {
      "cell_type": "code",
      "execution_count": 17,
      "metadata": {
        "colab": {
          "base_uri": "https://localhost:8080/",
          "height": 0
        },
        "id": "X7mOjGbtGERl",
        "outputId": "fdae3cb3-b5f1-4667-cb69-4e03ce10793d"
      },
      "outputs": [
        {
          "output_type": "execute_result",
          "data": {
            "text/plain": [
              "419"
            ]
          },
          "metadata": {},
          "execution_count": 17
        }
      ],
      "source": [
        "# Conditional probabilities step-1\n",
        "cnt = Counter()\n",
        "word_count = []\n",
        "for i in range(20):\n",
        "  for d, c in zip(data_tr_prep, data_tr.target):\n",
        "      if c == i:\n",
        "        cnt.update(d)\n",
        "  word_count.append(cnt)\n",
        "  cnt = Counter()\n",
        "word_count[10][\"would\"]\n"
      ]
    },
    {
      "cell_type": "markdown",
      "source": [
        "Here, we are calculating the total number of words present in each class which will used for normalizing the probabilities"
      ],
      "metadata": {
        "id": "lYOPWEOhUW3G"
      }
    },
    {
      "cell_type": "code",
      "source": [
        "# Conditional probabilities step-2\n",
        "all_class_word_counts = []\n",
        "for i in range(len(word_count)):\n",
        "  class_word_count = 0\n",
        "  for word in idx2tok:  \n",
        "    class_word_count += word_count[i][word]\n",
        "  all_class_word_counts.append(class_word_count)\n",
        "all_class_word_counts"
      ],
      "metadata": {
        "colab": {
          "base_uri": "https://localhost:8080/",
          "height": 0
        },
        "id": "nC9N75677OEp",
        "outputId": "a21c30ab-cda2-4aa8-ed4c-ea289cd4387e"
      },
      "execution_count": 18,
      "outputs": [
        {
          "output_type": "execute_result",
          "data": {
            "text/plain": [
              "[70964,\n",
              " 60492,\n",
              " 53100,\n",
              " 57785,\n",
              " 50195,\n",
              " 84937,\n",
              " 42926,\n",
              " 59425,\n",
              " 54491,\n",
              " 60432,\n",
              " 89825,\n",
              " 103669,\n",
              " 56887,\n",
              " 74895,\n",
              " 80958,\n",
              " 90081,\n",
              " 90032,\n",
              " 117600,\n",
              " 91113,\n",
              " 55170]"
            ]
          },
          "metadata": {},
          "execution_count": 18
        }
      ]
    },
    {
      "cell_type": "markdown",
      "source": [
        "Here, we are calculating the conditional probability of each word present in the idx2tok (Remember that idx2tok is a list of most frequent 10000 words present in the corpus)"
      ],
      "metadata": {
        "id": "6f3ZX0ygTjO3"
      }
    },
    {
      "cell_type": "code",
      "source": [
        "# Conditional probabilities step-3\n",
        "for i in range(20):\n",
        "    for word, word_idx in zip(idx2tok, range(len(idx2tok))):\n",
        "      cond_prob[word_idx][i] = (word_count[i][word] + 1) / (all_class_word_counts[i] + 10000 )\n",
        "    cond_prob[i]"
      ],
      "metadata": {
        "id": "ne-FpR0cSIdg"
      },
      "execution_count": 19,
      "outputs": []
    },
    {
      "cell_type": "markdown",
      "source": [
        "Conditional probability of word, w in class c = 𝑃(𝑤|𝑐) = ((count of word,w in class, c) + 1 ) / (Total number of words in class, c + Vocabulary count )"
      ],
      "metadata": {
        "id": "fQVJym_DT8J6"
      }
    },
    {
      "cell_type": "code",
      "source": [
        "cond_prob[10]"
      ],
      "metadata": {
        "colab": {
          "base_uri": "https://localhost:8080/",
          "height": 0
        },
        "id": "3ZibOs1OTJeO",
        "outputId": "a3e05e27-f4c7-487c-9161-9e7ea7d304e9"
      },
      "execution_count": 20,
      "outputs": [
        {
          "output_type": "execute_result",
          "data": {
            "text/plain": [
              "array([0.00662023, 0.0033479 , 0.00435816, 0.00343734, 0.00426946,\n",
              "       0.00213826, 0.00113366, 0.00668347, 0.00765998, 0.00607678,\n",
              "       0.00407713, 0.00402045, 0.00439547, 0.00508864, 0.00474944,\n",
              "       0.00379692, 0.00492842, 0.00417712, 0.00568671, 0.00515575])"
            ]
          },
          "metadata": {},
          "execution_count": 20
        }
      ]
    },
    {
      "cell_type": "markdown",
      "metadata": {
        "id": "uT9_ho7dQZEL"
      },
      "source": [
        "## Inference\n",
        "\n",
        "You will test your classifier with unseen examples (test dataset). \n",
        "\n",
        "Apply `text_prep` on `data_ts` in the same way as we did earlier.**"
      ]
    },
    {
      "cell_type": "code",
      "execution_count": 22,
      "metadata": {
        "id": "ysZJwUe1zkT8",
        "colab": {
          "base_uri": "https://localhost:8080/",
          "height": 0
        },
        "outputId": "10b639d4-16bc-4074-8116-d66428b9cb3b"
      },
      "outputs": [
        {
          "output_type": "execute_result",
          "data": {
            "text/plain": [
              "['from:',\n",
              " 'v064mb9k@ubvmsd.cc.buffalo.edu',\n",
              " '(neil',\n",
              " 'b.',\n",
              " 'gandler)',\n",
              " 'subject:',\n",
              " 'need',\n",
              " 'info',\n",
              " '88-89',\n",
              " 'bonneville',\n",
              " 'organization:',\n",
              " 'university']"
            ]
          },
          "metadata": {},
          "execution_count": 22
        }
      ],
      "source": [
        "data_ts = fetch_20newsgroups(subset='test', shuffle=True, random_state=42)\n",
        "data_ts_prep = []\n",
        "# Apply text_prep on data_ts and fill in data_ts_prep\n",
        "for i in range(len(data_ts.data)):\n",
        "  data_ts_prep.append(text_prep(data_ts.data[i]))\n",
        "data_ts_prep[0][:12]"
      ]
    },
    {
      "cell_type": "markdown",
      "metadata": {
        "id": "Jy4gbbUXRI8f"
      },
      "source": [
        "Now, *make a prediction*.\n",
        "\n",
        "For each test document, compute the \"argmax\" formula shown earlier. The argmax should tell you the class that maximizes the product of the prior/conditional probabilities. \n",
        "\n",
        "You should apply log to the product for computational stability and less expansive computation. Computer prefers addition to multiplication.\n"
      ]
    },
    {
      "cell_type": "code",
      "execution_count": null,
      "metadata": {
        "id": "73CL3Gtezl9t"
      },
      "outputs": [],
      "source": [
        "import math\n",
        "\n",
        "pred = []\n",
        "for d, c in zip(data_ts_prep, data_ts.target):\n",
        "  # implementing this for loop to make predictions\n",
        "  probs = []\n",
        "  for class_name in range(len(data_ts.target_names)):\n",
        "    prob = math.log(prior_prob[class_name])\n",
        "    for word in d:\n",
        "      if word in idx2tok:\n",
        "        prob = prob + math.log(cond_prob[tok2idx[word], class_name]) \n",
        "    probs.append(prob)\n",
        "  max_value = max(probs)\n",
        "  pred.append([index for index, item in enumerate(probs) if item == max_value])  "
      ]
    },
    {
      "cell_type": "code",
      "source": [
        "preds = np.zeros(len(pred))\n",
        "for i in range(len(pred)):\n",
        "  preds[i] = pred[i][0]"
      ],
      "metadata": {
        "id": "FJqTLuV3twUf"
      },
      "execution_count": 51,
      "outputs": []
    },
    {
      "cell_type": "markdown",
      "metadata": {
        "id": "QCQuNkPkSxvd"
      },
      "source": [
        "\n",
        "Once, you made all the predictions for the testing examples, you can run a evaluation metric for accuracy.\n",
        "\n",
        "If everything is correct, we are getting about 77% accuracy.\n",
        "\n",
        "To measure the accuracy, we are using accuracy_score module from sklearn.metrics library.\n"
      ]
    },
    {
      "cell_type": "code",
      "execution_count": 53,
      "metadata": {
        "id": "3pPcKuHAS4y5",
        "colab": {
          "base_uri": "https://localhost:8080/",
          "height": 0
        },
        "outputId": "60c4a177-c07c-4ee8-a27d-5cd4ed9a882a"
      },
      "outputs": [
        {
          "output_type": "stream",
          "name": "stdout",
          "text": [
            "Accuracy Score: 76.29%\n"
          ]
        }
      ],
      "source": [
        "from sklearn.metrics import accuracy_score\n",
        "acc = accuracy_score(data_ts.target, preds)\n",
        "print(f\"Accuracy Score: {round(acc*100, 2)}%\")"
      ]
    },
    {
      "cell_type": "code",
      "source": [
        "plt.figure(figsize=(20,8)) #change your figure size as per your desire here\n",
        "plt.hist(preds, len(data_ts.target_names), color='blue', alpha=0.5, label='Predictions', edgecolor='black', linewidth=3)\n",
        "plt.hist(data_ts.target, len(data_ts.target_names), color='green', alpha=0.5, label='Ground Truth', edgecolor='orange', linewidth=3)\n",
        "plt.xlabel(\"Class\")\n",
        "plt.ylabel(\"Frequency\")\n",
        "plt.legend(loc='upper right')\n",
        "plt.title(\"Predictions v/s Ground Truth\")"
      ],
      "metadata": {
        "colab": {
          "base_uri": "https://localhost:8080/",
          "height": 531
        },
        "id": "338OKPiSef9n",
        "outputId": "6c9d8d06-431c-49c1-a542-e6545d30829c"
      },
      "execution_count": 57,
      "outputs": [
        {
          "output_type": "execute_result",
          "data": {
            "text/plain": [
              "Text(0.5, 1.0, 'Predictions v/s Ground Truth')"
            ]
          },
          "metadata": {},
          "execution_count": 57
        },
        {
          "output_type": "display_data",
          "data": {
            "text/plain": [
              "<Figure size 1440x576 with 1 Axes>"
            ],
            "image/png": "[encoded data removed]"
          },
          "metadata": {
            "needs_background": "light"
          }
        }
      ]
    }
  ],
  "metadata": {
    "colab": {
      "provenance": [],
      "include_colab_link": true
    },
    "kernelspec": {
      "display_name": "Python 3",
      "name": "python3"
    },
    "language_info": {
      "name": "python"
    }
  },
  "nbformat": 4,
  "nbformat_minor": 0
}